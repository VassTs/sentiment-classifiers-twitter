{
 "cells": [
  {
   "cell_type": "code",
   "execution_count": 1,
   "id": "1e7a2d2d",
   "metadata": {
    "_cell_guid": "b1076dfc-b9ad-4769-8c92-a6c4dae69d19",
    "_uuid": "8f2839f25d086af736a60e9eeb907d3b93b6e0e5",
    "execution": {
     "iopub.execute_input": "2025-05-05T15:32:57.871617Z",
     "iopub.status.busy": "2025-05-05T15:32:57.871328Z",
     "iopub.status.idle": "2025-05-05T15:33:00.135557Z",
     "shell.execute_reply": "2025-05-05T15:33:00.134546Z"
    },
    "papermill": {
     "duration": 2.272321,
     "end_time": "2025-05-05T15:33:00.136996",
     "exception": false,
     "start_time": "2025-05-05T15:32:57.864675",
     "status": "completed"
    },
    "tags": []
   },
   "outputs": [
    {
     "name": "stdout",
     "output_type": "stream",
     "text": [
      "Archive:  /usr/share/nltk_data/corpora/wordnet.zip\r\n",
      "   creating: /usr/share/nltk_data/corpora/wordnet/\r\n",
      "  inflating: /usr/share/nltk_data/corpora/wordnet/lexnames  \r\n",
      "  inflating: /usr/share/nltk_data/corpora/wordnet/data.verb  \r\n",
      "  inflating: /usr/share/nltk_data/corpora/wordnet/index.adv  \r\n",
      "  inflating: /usr/share/nltk_data/corpora/wordnet/adv.exc  \r\n",
      "  inflating: /usr/share/nltk_data/corpora/wordnet/index.verb  \r\n",
      "  inflating: /usr/share/nltk_data/corpora/wordnet/cntlist.rev  \r\n",
      "  inflating: /usr/share/nltk_data/corpora/wordnet/data.adj  \r\n",
      "  inflating: /usr/share/nltk_data/corpora/wordnet/index.adj  \r\n",
      "  inflating: /usr/share/nltk_data/corpora/wordnet/LICENSE  \r\n",
      "  inflating: /usr/share/nltk_data/corpora/wordnet/citation.bib  \r\n",
      "  inflating: /usr/share/nltk_data/corpora/wordnet/noun.exc  \r\n",
      "  inflating: /usr/share/nltk_data/corpora/wordnet/verb.exc  \r\n",
      "  inflating: /usr/share/nltk_data/corpora/wordnet/README  \r\n",
      "  inflating: /usr/share/nltk_data/corpora/wordnet/index.sense  \r\n",
      "  inflating: /usr/share/nltk_data/corpora/wordnet/data.noun  \r\n",
      "  inflating: /usr/share/nltk_data/corpora/wordnet/data.adv  \r\n",
      "  inflating: /usr/share/nltk_data/corpora/wordnet/index.noun  \r\n",
      "  inflating: /usr/share/nltk_data/corpora/wordnet/adj.exc  \r\n"
     ]
    }
   ],
   "source": [
    "import nltk\n",
    "!rm -rf /usr/share/nltk_data/corpora/wordnet\n",
    "!unzip /usr/share/nltk_data/corpora/wordnet.zip -d /usr/share/nltk_data/corpora/"
   ]
  },
  {
   "cell_type": "code",
   "execution_count": 2,
   "id": "304c3379",
   "metadata": {
    "execution": {
     "iopub.execute_input": "2025-05-05T15:33:00.150890Z",
     "iopub.status.busy": "2025-05-05T15:33:00.150250Z",
     "iopub.status.idle": "2025-05-05T15:33:19.144860Z",
     "shell.execute_reply": "2025-05-05T15:33:19.144152Z"
    },
    "papermill": {
     "duration": 19.003084,
     "end_time": "2025-05-05T15:33:19.146470",
     "exception": false,
     "start_time": "2025-05-05T15:33:00.143386",
     "status": "completed"
    },
    "tags": []
   },
   "outputs": [],
   "source": [
    "# Import basic libraries\n",
    "import string\n",
    "import pandas as pd\n",
    "import numpy as np\n",
    "import random\n",
    "import torch\n",
    "import torch.nn as nn            #Base class for all neural network modules\n",
    "import matplotlib.pyplot as plt\n",
    "from nltk.corpus import stopwords\n",
    "from nltk.stem import WordNetLemmatizer\n",
    "from gensim.scripts.glove2word2vec import glove2word2vec\n",
    "import optuna\n",
    "from sklearn.metrics import accuracy_score, classification_report, roc_curve, roc_auc_score, auc\n",
    "from tqdm import tqdm\n",
    "from sklearn import metrics\n",
    "import os"
   ]
  },
  {
   "cell_type": "code",
   "execution_count": 3,
   "id": "bc9f23d0",
   "metadata": {
    "execution": {
     "iopub.execute_input": "2025-05-05T15:33:19.158937Z",
     "iopub.status.busy": "2025-05-05T15:33:19.158447Z",
     "iopub.status.idle": "2025-05-05T15:33:19.214460Z",
     "shell.execute_reply": "2025-05-05T15:33:19.213455Z"
    },
    "papermill": {
     "duration": 0.063515,
     "end_time": "2025-05-05T15:33:19.215744",
     "exception": false,
     "start_time": "2025-05-05T15:33:19.152229",
     "status": "completed"
    },
    "tags": []
   },
   "outputs": [
    {
     "name": "stdout",
     "output_type": "stream",
     "text": [
      "Using device: cuda\n"
     ]
    }
   ],
   "source": [
    "device = torch.device(\"cuda\" if torch.cuda.is_available() else \"cpu\")\n",
    "print(f\"Using device: {device}\")"
   ]
  },
  {
   "cell_type": "code",
   "execution_count": 4,
   "id": "54e4daa3",
   "metadata": {
    "execution": {
     "iopub.execute_input": "2025-05-05T15:33:19.227347Z",
     "iopub.status.busy": "2025-05-05T15:33:19.227107Z",
     "iopub.status.idle": "2025-05-05T15:33:19.235247Z",
     "shell.execute_reply": "2025-05-05T15:33:19.234632Z"
    },
    "papermill": {
     "duration": 0.015117,
     "end_time": "2025-05-05T15:33:19.236482",
     "exception": false,
     "start_time": "2025-05-05T15:33:19.221365",
     "status": "completed"
    },
    "tags": []
   },
   "outputs": [],
   "source": [
    "# Random Seed at file level for reproducibility\n",
    "random_seed = 137\n",
    "\n",
    "np.random.seed(random_seed)\n",
    "random.seed(random_seed)\n",
    "torch.manual_seed(random_seed)  # we add torch seed\n",
    "torch.cuda.manual_seed(random_seed)\n",
    "# When running on the CuDNN backend, two further options must be set\n",
    "torch.backends.cudnn.deterministic = True\n",
    "# Set a fixed value for the hash seed\n",
    "os.environ['PYTHONHASHSEED'] = str(random_seed)\n",
    "torch.backends.cudnn.benchmark = False\n",
    "# torch.use_deterministic_algorithms(True)"
   ]
  },
  {
   "cell_type": "code",
   "execution_count": null,
   "id": "9cdd499f",
   "metadata": {
    "execution": {
     "iopub.execute_input": "2025-05-05T15:33:19.247581Z",
     "iopub.status.busy": "2025-05-05T15:33:19.247361Z",
     "iopub.status.idle": "2025-05-05T15:33:19.861480Z",
     "shell.execute_reply": "2025-05-05T15:33:19.860237Z"
    },
    "papermill": {
     "duration": 0.622223,
     "end_time": "2025-05-05T15:33:19.863962",
     "exception": false,
     "start_time": "2025-05-05T15:33:19.241739",
     "status": "completed"
    },
    "tags": []
   },
   "outputs": [],
   "source": [
    "# Import the data\n",
    "df_train = pd.read_csv('YOUR PATH TO: train_dataset.csv')    # returns a dataframe\n",
    "df_val = pd.read_csv('YOUR PATH TO: val_dataset.csv')\n",
    "df_test = pd.read_csv('YOUR PATH TO: test_dataset.csv')"
   ]
  },
  {
   "cell_type": "code",
   "execution_count": 6,
   "id": "afda275a",
   "metadata": {
    "execution": {
     "iopub.execute_input": "2025-05-05T15:33:19.878531Z",
     "iopub.status.busy": "2025-05-05T15:33:19.878164Z",
     "iopub.status.idle": "2025-05-05T15:33:19.890448Z",
     "shell.execute_reply": "2025-05-05T15:33:19.888725Z"
    },
    "papermill": {
     "duration": 0.022406,
     "end_time": "2025-05-05T15:33:19.893258",
     "exception": false,
     "start_time": "2025-05-05T15:33:19.870852",
     "status": "completed"
    },
    "tags": []
   },
   "outputs": [],
   "source": [
    "X_train, y_train = df_train[\"Text\"], df_train[\"Label\"]    # corresponds tuples\n",
    "X_val, y_val = df_val[\"Text\"], df_val[\"Label\"]\n",
    "X_test, X_test_id = df_test[\"Text\"], df_test[\"ID\"]"
   ]
  },
  {
   "cell_type": "code",
   "execution_count": 7,
   "id": "6922b10b",
   "metadata": {
    "execution": {
     "iopub.execute_input": "2025-05-05T15:33:19.911312Z",
     "iopub.status.busy": "2025-05-05T15:33:19.910734Z",
     "iopub.status.idle": "2025-05-05T15:33:19.921495Z",
     "shell.execute_reply": "2025-05-05T15:33:19.920160Z"
    },
    "papermill": {
     "duration": 0.022869,
     "end_time": "2025-05-05T15:33:19.924333",
     "exception": false,
     "start_time": "2025-05-05T15:33:19.901464",
     "status": "completed"
    },
    "tags": []
   },
   "outputs": [],
   "source": [
    "# Preprocessing (all the functions we'll need):\n",
    "# We tokenize, so that we can preprocess\n",
    "def my_split(str_arg):\n",
    "    return str_arg.split(' ')\n",
    "\n",
    "# lowercase\n",
    "def my_lower(list_arg):\n",
    "    length = len(list_arg)\n",
    "    for i in range(length):\n",
    "        list_arg[i] = list_arg[i].lower()\n",
    "    return list_arg\n",
    "\n",
    "# stop word removal\n",
    "def my_stopword(list_arg):\n",
    "    clean_list = []\n",
    "    for word in list_arg:\n",
    "        if word not in stopwords.words('english'):\n",
    "            clean_list.append(word)\n",
    "    return clean_list\n",
    "\n",
    "# Lemmatization.\n",
    "def my_lemmatize(list_arg):\n",
    "    lemmatizer = WordNetLemmatizer()\n",
    "    length = len(list_arg)\n",
    "    for i in range(length):\n",
    "        list_arg[i] = lemmatizer.lemmatize(list_arg[i])\n",
    "    return list_arg\n",
    "\n",
    "# Remove special characters and punctuation\n",
    "def my_unpunct(list_arg):\n",
    "    length = len(list_arg)\n",
    "    for i in range(length):\n",
    "        list_arg[i] = ''.join([ch for ch in list_arg[i] if ch not in string.punctuation])\n",
    "    return list_arg\n",
    "\n",
    "def my_join(list_arg):\n",
    "    return \" \".join(list_arg)    # this is a string function\n",
    "\n",
    "def my_preprocess(X_set):\n",
    "    # See report on why certain functions are commented!\n",
    "    X_set = X_set.apply(my_split)       # we tokenize, so that we can preprocess\n",
    "    X_set = X_set.apply(my_lower)       # we lowercase\n",
    "    # X_set = X_set.apply(my_stopword)    # we remove stop words\n",
    "    # X_set = X_set.apply(my_lemmatize)   # we lemmatize\n",
    "    X_set = X_set.apply(my_unpunct)     # we remove special characters and punctuation \n",
    "    X_set = X_set.apply(my_join)        # we join all the tokens of one sentence together\n",
    "    return X_set"
   ]
  },
  {
   "cell_type": "code",
   "execution_count": 8,
   "id": "5ad0362e",
   "metadata": {
    "execution": {
     "iopub.execute_input": "2025-05-05T15:33:19.941560Z",
     "iopub.status.busy": "2025-05-05T15:33:19.941051Z",
     "iopub.status.idle": "2025-05-05T15:33:23.791714Z",
     "shell.execute_reply": "2025-05-05T15:33:23.790834Z"
    },
    "papermill": {
     "duration": 3.861594,
     "end_time": "2025-05-05T15:33:23.793473",
     "exception": false,
     "start_time": "2025-05-05T15:33:19.931879",
     "status": "completed"
    },
    "tags": []
   },
   "outputs": [],
   "source": [
    "# We preprocess train, validation and test set\n",
    "X_train = my_preprocess(X_train)\n",
    "X_val = my_preprocess(X_val)\n",
    "X_test = my_preprocess(X_test)"
   ]
  },
  {
   "cell_type": "code",
   "execution_count": 9,
   "id": "56ce7d72",
   "metadata": {
    "execution": {
     "iopub.execute_input": "2025-05-05T15:33:23.805497Z",
     "iopub.status.busy": "2025-05-05T15:33:23.805215Z",
     "iopub.status.idle": "2025-05-05T15:42:12.111915Z",
     "shell.execute_reply": "2025-05-05T15:42:12.110813Z"
    },
    "papermill": {
     "duration": 528.320306,
     "end_time": "2025-05-05T15:42:12.119498",
     "exception": false,
     "start_time": "2025-05-05T15:33:23.799192",
     "status": "completed"
    },
    "tags": []
   },
   "outputs": [
    {
     "name": "stdout",
     "output_type": "stream",
     "text": [
      "--2025-05-05 15:33:23--  http://nlp.stanford.edu/data/glove.6B.zip\r\n",
      "Resolving nlp.stanford.edu (nlp.stanford.edu)... 171.64.67.140\r\n",
      "Connecting to nlp.stanford.edu (nlp.stanford.edu)|171.64.67.140|:80... connected.\r\n",
      "HTTP request sent, awaiting response... 302 Found\r\n",
      "Location: https://nlp.stanford.edu/data/glove.6B.zip [following]\r\n",
      "--2025-05-05 15:33:24--  https://nlp.stanford.edu/data/glove.6B.zip\r\n",
      "Connecting to nlp.stanford.edu (nlp.stanford.edu)|171.64.67.140|:443... connected.\r\n",
      "HTTP request sent, awaiting response... 301 Moved Permanently\r\n",
      "Location: https://downloads.cs.stanford.edu/nlp/data/glove.6B.zip [following]\r\n",
      "--2025-05-05 15:33:24--  https://downloads.cs.stanford.edu/nlp/data/glove.6B.zip\r\n",
      "Resolving downloads.cs.stanford.edu (downloads.cs.stanford.edu)... 171.64.64.22\r\n",
      "Connecting to downloads.cs.stanford.edu (downloads.cs.stanford.edu)|171.64.64.22|:443... connected.\r\n",
      "HTTP request sent, awaiting response... 200 OK\r\n",
      "Length: 862182613 (822M) [application/zip]\r\n",
      "Saving to: ‘glove.6B.zip’\r\n",
      "\r\n",
      "glove.6B.zip        100%[===================>] 822.24M  5.07MB/s    in 2m 39s  \r\n",
      "\r\n",
      "2025-05-05 15:36:04 (5.17 MB/s) - ‘glove.6B.zip’ saved [862182613/862182613]\r\n",
      "\r\n",
      "Archive:  glove.6B.zip\r\n",
      "  inflating: glove.6B.50d.txt        \r\n",
      "  inflating: glove.6B.100d.txt       \r\n",
      "  inflating: glove.6B.200d.txt       \r\n",
      "  inflating: glove.6B.300d.txt       \r\n",
      "--2025-05-05 15:36:24--  http://nlp.stanford.edu/data/glove.twitter.27B.zip\r\n",
      "Resolving nlp.stanford.edu (nlp.stanford.edu)... 171.64.67.140\r\n",
      "Connecting to nlp.stanford.edu (nlp.stanford.edu)|171.64.67.140|:80... connected.\r\n",
      "HTTP request sent, awaiting response... 302 Found\r\n",
      "Location: https://nlp.stanford.edu/data/glove.twitter.27B.zip [following]\r\n",
      "--2025-05-05 15:36:24--  https://nlp.stanford.edu/data/glove.twitter.27B.zip\r\n",
      "Connecting to nlp.stanford.edu (nlp.stanford.edu)|171.64.67.140|:443... connected.\r\n",
      "HTTP request sent, awaiting response... 301 Moved Permanently\r\n",
      "Location: https://downloads.cs.stanford.edu/nlp/data/glove.twitter.27B.zip [following]\r\n",
      "--2025-05-05 15:36:25--  https://downloads.cs.stanford.edu/nlp/data/glove.twitter.27B.zip\r\n",
      "Resolving downloads.cs.stanford.edu (downloads.cs.stanford.edu)... 171.64.64.22\r\n",
      "Connecting to downloads.cs.stanford.edu (downloads.cs.stanford.edu)|171.64.64.22|:443... connected.\r\n",
      "HTTP request sent, awaiting response... 200 OK\r\n",
      "Length: 1520408563 (1.4G) [application/zip]\r\n",
      "Saving to: ‘glove.twitter.27B.zip’\r\n",
      "\r\n",
      "glove.twitter.27B.z 100%[===================>]   1.42G  5.08MB/s    in 5m 11s  \r\n",
      "\r\n",
      "2025-05-05 15:41:37 (4.66 MB/s) - ‘glove.twitter.27B.zip’ saved [1520408563/1520408563]\r\n",
      "\r\n",
      "Archive:  glove.twitter.27B.zip\r\n",
      "  inflating: glove.twitter.27B.25d.txt  \r\n",
      "  inflating: glove.twitter.27B.50d.txt  \r\n",
      "  inflating: glove.twitter.27B.100d.txt  \r\n",
      "  inflating: glove.twitter.27B.200d.txt  \r\n"
     ]
    }
   ],
   "source": [
    "# Download GloVe Embeddings\n",
    "!wget http://nlp.stanford.edu/data/glove.6B.zip\n",
    "!unzip glove.6B.zip\n",
    "\n",
    "!wget http://nlp.stanford.edu/data/glove.twitter.27B.zip\n",
    "!unzip glove.twitter.27B.zip"
   ]
  },
  {
   "cell_type": "code",
   "execution_count": 10,
   "id": "334fbf17",
   "metadata": {
    "execution": {
     "iopub.execute_input": "2025-05-05T15:42:12.336886Z",
     "iopub.status.busy": "2025-05-05T15:42:12.336535Z",
     "iopub.status.idle": "2025-05-05T15:46:13.048429Z",
     "shell.execute_reply": "2025-05-05T15:46:13.047501Z"
    },
    "papermill": {
     "duration": 240.924991,
     "end_time": "2025-05-05T15:46:13.153318",
     "exception": false,
     "start_time": "2025-05-05T15:42:12.228327",
     "status": "completed"
    },
    "tags": []
   },
   "outputs": [
    {
     "name": "stderr",
     "output_type": "stream",
     "text": [
      "<ipython-input-10-132f93a6351f>:9: DeprecationWarning: Call to deprecated `glove2word2vec` (KeyedVectors.load_word2vec_format(.., binary=False, no_header=True) loads GLoVE text vectors.).\n",
      "  glove2word2vec(glove_input_file, w2v_output_file) #convert GloVe vectors into the word2vec\n"
     ]
    },
    {
     "data": {
      "text/plain": [
       "(1193514, 200)"
      ]
     },
     "execution_count": 10,
     "metadata": {},
     "output_type": "execute_result"
    }
   ],
   "source": [
    "# Transform GloVe embeddings to Word2Vec format\n",
    "# GLOVE_TYPE = 'glove.6B.'            # d = {50, 100, 200, 300}\n",
    "GLOVE_TYPE = 'glove.twitter.27B.'   # d = {25, 50, 200}\n",
    "DIMENSIONS = 200\n",
    "\n",
    "glove_input_file = GLOVE_TYPE + str(DIMENSIONS) +'d.txt'\n",
    "w2v_output_file = 'glv_with_w2v_format.txt'\n",
    "\n",
    "glove2word2vec(glove_input_file, w2v_output_file) #convert GloVe vectors into the word2vec"
   ]
  },
  {
   "cell_type": "code",
   "execution_count": 11,
   "id": "dd96e7db",
   "metadata": {
    "execution": {
     "iopub.execute_input": "2025-05-05T15:46:13.362177Z",
     "iopub.status.busy": "2025-05-05T15:46:13.361876Z",
     "iopub.status.idle": "2025-05-05T15:48:18.667177Z",
     "shell.execute_reply": "2025-05-05T15:48:18.666440Z"
    },
    "papermill": {
     "duration": 125.413044,
     "end_time": "2025-05-05T15:48:18.668847",
     "exception": false,
     "start_time": "2025-05-05T15:46:13.255803",
     "status": "completed"
    },
    "tags": []
   },
   "outputs": [],
   "source": [
    "# We create a dictionary 'word' -> 'vector of floats, dimension = 50' of w2vec embeddings\n",
    "with open(w2v_output_file, 'r') as my_file:   # 'with' statement, closes the file for you\n",
    "    w2v_list_str = my_file.read().splitlines()   # splitlines() splits a string into a list\n",
    "\n",
    "w2v_dict = {}    # word_str -> vector_float_list\n",
    "\n",
    "# w2v_list_str is a list of strings, word_vector_pair_str is a class str\n",
    "# first string of w2v_list_str is: 400000 50 (where 400000 + 1 is size of list, and 50 is the dimension of each vector), second string is: the 0.418 0.24968 -0.41242 ...\n",
    "for word_vector_pair_str in w2v_list_str[1:]:\n",
    "    word_vector_pair_list_str = word_vector_pair_str.split() # Converts a string like \"apple 0.1 0.2 0.3\" into a list: ['apple', '0.1', '0.2', '0.3']\n",
    "    if(len(word_vector_pair_list_str) == 0):   # empty list, which means empty line (most likely last line of file)\n",
    "        continue\n",
    "    word_str = word_vector_pair_list_str[0]   # 'apple'\n",
    "    vector_str_list = word_vector_pair_list_str[1:]   # ['0.1', '0.2', '0.3']\n",
    "    \n",
    "    vector_float_list = []\n",
    "    for number_str in vector_str_list:\n",
    "        number_float = float(number_str)    # Converts text numbers (like '0.123') to actual numbers (like 0.123)\n",
    "        vector_float_list.append(number_float)\n",
    "        \n",
    "    w2v_dict[word_str] = vector_float_list"
   ]
  },
  {
   "cell_type": "code",
   "execution_count": 12,
   "id": "317c0d48",
   "metadata": {
    "execution": {
     "iopub.execute_input": "2025-05-05T15:48:18.877059Z",
     "iopub.status.busy": "2025-05-05T15:48:18.876703Z",
     "iopub.status.idle": "2025-05-05T15:48:18.883695Z",
     "shell.execute_reply": "2025-05-05T15:48:18.883055Z"
    },
    "papermill": {
     "duration": 0.112066,
     "end_time": "2025-05-05T15:48:18.884965",
     "exception": false,
     "start_time": "2025-05-05T15:48:18.772899",
     "status": "completed"
    },
    "tags": []
   },
   "outputs": [],
   "source": [
    "# We write the functions that find the w2vec representation of a tweet\n",
    "def my_split(str_arg):\n",
    "    return str_arg.split(' ')\n",
    "\n",
    "def my_add_vector(vector_sum, vector_float_list):   # vector_sum is of size 50, so is vector_float_list\n",
    "    index = 0\n",
    "    for number_float in vector_float_list:\n",
    "        vector_sum[index] = vector_sum[index] + number_float\n",
    "        index += 1\n",
    "    return vector_sum\n",
    "\n",
    "def my_constant_mult_vector(vector_sum, constant):\n",
    "    new_vector_sum = []\n",
    "    for number_float in vector_sum:\n",
    "        new_vector_sum.append(number_float * constant)\n",
    "    return new_vector_sum\n",
    "    \n",
    "def my_average(str_list):\n",
    "    vector_sum = [0] * DIMENSIONS\n",
    "    count = 0\n",
    "    for word_str in str_list:\n",
    "        if word_str in w2v_dict:\n",
    "            vector_float_list = w2v_dict[word_str]\n",
    "            vector_sum = my_add_vector(vector_sum, vector_float_list)\n",
    "            count += 1\n",
    "    if count == 0:\n",
    "        return vector_sum  # Or handle zero case separately\n",
    "    vector_average = my_constant_mult_vector(vector_sum, 1/count)\n",
    "    return vector_average\n",
    "\n",
    "def my_embed(X_set):\n",
    "    X_set_temp = X_set.apply(my_split)\n",
    "    X_set_temp = X_set_temp.apply(my_average)\n",
    "    return X_set_temp"
   ]
  },
  {
   "cell_type": "code",
   "execution_count": 13,
   "id": "920b1cac",
   "metadata": {
    "execution": {
     "iopub.execute_input": "2025-05-05T15:48:19.134322Z",
     "iopub.status.busy": "2025-05-05T15:48:19.134032Z",
     "iopub.status.idle": "2025-05-05T15:49:15.713408Z",
     "shell.execute_reply": "2025-05-05T15:49:15.712676Z"
    },
    "papermill": {
     "duration": 56.726234,
     "end_time": "2025-05-05T15:49:15.715000",
     "exception": false,
     "start_time": "2025-05-05T15:48:18.988766",
     "status": "completed"
    },
    "tags": []
   },
   "outputs": [
    {
     "name": "stdout",
     "output_type": "stream",
     "text": [
      "0         [0.06258449999999999, 0.07883671666666665, -0....\n",
      "1         [0.023130346153846154, -2.692307692297041e-07,...\n",
      "2         [-0.08837590000000001, 0.06391220000000002, 0....\n",
      "3         [0, 0, 0, 0, 0, 0, 0, 0, 0, 0, 0, 0, 0, 0, 0, ...\n",
      "4         [0.039743938095238095, 0.13998883419047617, 0....\n",
      "                                ...                        \n",
      "148383    [0.13062405, 0.22433193750000002, -0.026162999...\n",
      "148384    [0.22554602857142853, 0.058073714285714284, -0...\n",
      "148385    [-0.16714468857142856, -0.005584285714285724, ...\n",
      "148386    [0.07385898333333331, 0.16396233333333332, 0.1...\n",
      "148387    [-0.025244428571428567, 0.05163921428571429, 0...\n",
      "Name: Text, Length: 148388, dtype: object\n"
     ]
    }
   ],
   "source": [
    "# We embed our tweets and save them in tensors\n",
    "X_train_embedded = my_embed(X_train)\n",
    "X_val_embedded = my_embed(X_val)      # guess needed\n",
    "X_test_embedded = my_embed(X_test)    # guess needed\n",
    "\n",
    "print(X_train_embedded)\n",
    "\n",
    "X_train_tensor = torch.tensor(X_train_embedded, dtype=torch.float).to(device)\n",
    "y_train_tensor = torch.tensor(y_train, dtype=torch.float).to(device)\n",
    "X_val_tensor = torch.tensor(X_val_embedded, dtype=torch.float).to(device)\n",
    "y_val_tensor = torch.tensor(y_val, dtype=torch.float).to(device)\n",
    "X_test_tensor = torch.tensor(X_test_embedded, dtype=torch.float).to(device)"
   ]
  },
  {
   "cell_type": "code",
   "execution_count": 14,
   "id": "c488f640",
   "metadata": {
    "execution": {
     "iopub.execute_input": "2025-05-05T15:49:15.926603Z",
     "iopub.status.busy": "2025-05-05T15:49:15.926308Z",
     "iopub.status.idle": "2025-05-05T15:49:15.932346Z",
     "shell.execute_reply": "2025-05-05T15:49:15.931708Z"
    },
    "papermill": {
     "duration": 0.111911,
     "end_time": "2025-05-05T15:49:15.933567",
     "exception": false,
     "start_time": "2025-05-05T15:49:15.821656",
     "status": "completed"
    },
    "tags": []
   },
   "outputs": [],
   "source": [
    "class Net(nn.Module):\n",
    "    def __init__(self, input_dim, hidden_sizes, output_dim, dropout_rate, apply_sigmoid):\n",
    "        super(Net, self).__init__()\n",
    "        layers = []\n",
    "        in_dim = input_dim\n",
    "        for hidden_size in hidden_sizes:\n",
    "            layers.append(nn.Linear(in_dim, hidden_size))\n",
    "            layers.append(nn.ReLU())    # we apply the same activation function to each layer, we append the activation, just after we initialize the hidden layer, so that it is applied\n",
    "            layers.append(nn.Dropout(dropout_rate))\n",
    "            in_dim = hidden_size\n",
    "        layers.append(nn.Linear(in_dim, output_dim))    # Final output layer\n",
    "        self.model = nn.Sequential(*layers)\n",
    "        self.apply_sigmoid = apply_sigmoid\n",
    "        self.sigmoid = nn.Sigmoid()\n",
    "    \n",
    "    def forward(self, x):\n",
    "        out = self.model(x)          # Pass input through all layers in self.model\n",
    "        if(self.apply_sigmoid == 1):\n",
    "            out = self.sigmoid(out)  # Apply sigmoid to the output layer (BCELoss expects probabilites as input, BCEWithLogitsLoss expects Logits as input)\n",
    "        return out"
   ]
  },
  {
   "cell_type": "code",
   "execution_count": 15,
   "id": "b3d39cde",
   "metadata": {
    "execution": {
     "iopub.execute_input": "2025-05-05T15:49:16.144023Z",
     "iopub.status.busy": "2025-05-05T15:49:16.143682Z",
     "iopub.status.idle": "2025-05-05T15:56:36.416463Z",
     "shell.execute_reply": "2025-05-05T15:56:36.415624Z"
    },
    "papermill": {
     "duration": 440.378611,
     "end_time": "2025-05-05T15:56:36.417711",
     "exception": false,
     "start_time": "2025-05-05T15:49:16.039100",
     "status": "completed"
    },
    "tags": []
   },
   "outputs": [
    {
     "name": "stdout",
     "output_type": "stream",
     "text": [
      "Net(\n",
      "  (model): Sequential(\n",
      "    (0): Linear(in_features=200, out_features=64, bias=True)\n",
      "    (1): ReLU()\n",
      "    (2): Dropout(p=0.0, inplace=False)\n",
      "    (3): Linear(in_features=64, out_features=1, bias=True)\n",
      "  )\n",
      "  (sigmoid): Sigmoid()\n",
      ")\n",
      "Epoch 0: loss_train = 0.51230, loss_val = 0.48356, accuracy_val = 0.76665\n",
      "Epoch 1: loss_train = 0.48363, loss_val = 0.47644, accuracy_val = 0.76948\n",
      "Epoch 2: loss_train = 0.47713, loss_val = 0.47210, accuracy_val = 0.77196\n",
      "Epoch 3: loss_train = 0.47266, loss_val = 0.46817, accuracy_val = 0.77399\n",
      "Epoch 4: loss_train = 0.46912, loss_val = 0.46752, accuracy_val = 0.77500\n",
      "Epoch 5: loss_train = 0.46598, loss_val = 0.46895, accuracy_val = 0.77406\n",
      "Epoch 6: loss_train = 0.46310, loss_val = 0.46372, accuracy_val = 0.77717\n",
      "Epoch 7: loss_train = 0.46091, loss_val = 0.46452, accuracy_val = 0.77776\n",
      "Epoch 8: loss_train = 0.45880, loss_val = 0.46307, accuracy_val = 0.77805\n",
      "Epoch 9: loss_train = 0.45657, loss_val = 0.46169, accuracy_val = 0.77774\n",
      "Epoch 10: loss_train = 0.45451, loss_val = 0.46277, accuracy_val = 0.77769\n",
      "Epoch 11: loss_train = 0.45249, loss_val = 0.46137, accuracy_val = 0.78017\n",
      "Epoch 12: loss_train = 0.45121, loss_val = 0.45971, accuracy_val = 0.78083\n",
      "Epoch 13: loss_train = 0.44941, loss_val = 0.46088, accuracy_val = 0.78172\n",
      "Epoch 14: loss_train = 0.44773, loss_val = 0.46002, accuracy_val = 0.78031\n",
      "Epoch 15: loss_train = 0.44623, loss_val = 0.46002, accuracy_val = 0.78182\n",
      "Epoch 16: loss_train = 0.44512, loss_val = 0.46059, accuracy_val = 0.78132\n",
      "Epoch 17: loss_train = 0.44356, loss_val = 0.46287, accuracy_val = 0.77753\n",
      "Epoch 18: loss_train = 0.44224, loss_val = 0.45810, accuracy_val = 0.78189\n",
      "Epoch 19: loss_train = 0.44096, loss_val = 0.46086, accuracy_val = 0.78246\n",
      "Epoch 20: loss_train = 0.43993, loss_val = 0.45899, accuracy_val = 0.78352\n",
      "Epoch 21: loss_train = 0.43891, loss_val = 0.46184, accuracy_val = 0.77948\n",
      "Epoch 22: loss_train = 0.43769, loss_val = 0.46051, accuracy_val = 0.78175\n",
      "Epoch 23: loss_train = 0.43637, loss_val = 0.45947, accuracy_val = 0.78208\n",
      "Epoch 24: loss_train = 0.43537, loss_val = 0.46079, accuracy_val = 0.78099\n",
      "Epoch 25: loss_train = 0.43468, loss_val = 0.46341, accuracy_val = 0.78062\n",
      "Epoch 26: loss_train = 0.43346, loss_val = 0.46083, accuracy_val = 0.78170\n",
      "Epoch 27: loss_train = 0.43272, loss_val = 0.46192, accuracy_val = 0.78156\n",
      "Epoch 28: loss_train = 0.43178, loss_val = 0.46421, accuracy_val = 0.77981\n",
      "Epoch 29: loss_train = 0.43078, loss_val = 0.45998, accuracy_val = 0.78326\n",
      "Epoch 30: loss_train = 0.42986, loss_val = 0.46291, accuracy_val = 0.78038\n",
      "Epoch 31: loss_train = 0.42921, loss_val = 0.46266, accuracy_val = 0.77951\n",
      "Epoch 32: loss_train = 0.42861, loss_val = 0.46553, accuracy_val = 0.77963\n",
      "Epoch 33: loss_train = 0.42760, loss_val = 0.46199, accuracy_val = 0.78297\n",
      "Epoch 34: loss_train = 0.42686, loss_val = 0.46394, accuracy_val = 0.78083\n",
      "Epoch 35: loss_train = 0.42627, loss_val = 0.46161, accuracy_val = 0.78196\n",
      "Epoch 36: loss_train = 0.42565, loss_val = 0.46346, accuracy_val = 0.78022\n",
      "Epoch 37: loss_train = 0.42458, loss_val = 0.46699, accuracy_val = 0.77878\n",
      "Epoch 38: loss_train = 0.42432, loss_val = 0.46212, accuracy_val = 0.78123\n",
      "Epoch 39: loss_train = 0.42346, loss_val = 0.46342, accuracy_val = 0.77922\n",
      "Epoch 40: loss_train = 0.42264, loss_val = 0.46278, accuracy_val = 0.78229\n",
      "Epoch 41: loss_train = 0.42245, loss_val = 0.46848, accuracy_val = 0.77840\n",
      "Epoch 42: loss_train = 0.42157, loss_val = 0.46546, accuracy_val = 0.77930\n",
      "Epoch 43: loss_train = 0.42105, loss_val = 0.46495, accuracy_val = 0.78102\n",
      "Epoch 44: loss_train = 0.42019, loss_val = 0.46298, accuracy_val = 0.78326\n",
      "Epoch 45: loss_train = 0.42010, loss_val = 0.46986, accuracy_val = 0.77840\n",
      "Epoch 46: loss_train = 0.41907, loss_val = 0.46758, accuracy_val = 0.77861\n",
      "Epoch 47: loss_train = 0.41890, loss_val = 0.46446, accuracy_val = 0.78165\n",
      "Epoch 48: loss_train = 0.41825, loss_val = 0.47078, accuracy_val = 0.77771\n",
      "Epoch 49: loss_train = 0.41783, loss_val = 0.46973, accuracy_val = 0.77557\n",
      "Epoch 50: loss_train = 0.41782, loss_val = 0.46559, accuracy_val = 0.78050\n",
      "Epoch 51: loss_train = 0.41697, loss_val = 0.46718, accuracy_val = 0.78118\n",
      "Epoch 52: loss_train = 0.41676, loss_val = 0.46567, accuracy_val = 0.78024\n",
      "Epoch 53: loss_train = 0.41590, loss_val = 0.47115, accuracy_val = 0.77665\n",
      "Epoch 54: loss_train = 0.41585, loss_val = 0.46952, accuracy_val = 0.77788\n",
      "Epoch 55: loss_train = 0.41527, loss_val = 0.46823, accuracy_val = 0.78012\n",
      "Epoch 56: loss_train = 0.41467, loss_val = 0.46686, accuracy_val = 0.78182\n",
      "Epoch 57: loss_train = 0.41445, loss_val = 0.46935, accuracy_val = 0.77802\n",
      "Epoch 58: loss_train = 0.41400, loss_val = 0.46813, accuracy_val = 0.77937\n",
      "Epoch 59: loss_train = 0.41386, loss_val = 0.46853, accuracy_val = 0.77753\n",
      "Epoch 60: loss_train = 0.41311, loss_val = 0.46720, accuracy_val = 0.78064\n",
      "Epoch 61: loss_train = 0.41302, loss_val = 0.46659, accuracy_val = 0.78154\n",
      "Epoch 62: loss_train = 0.41253, loss_val = 0.46873, accuracy_val = 0.78088\n",
      "Epoch 63: loss_train = 0.41206, loss_val = 0.46726, accuracy_val = 0.78029\n",
      "Epoch 64: loss_train = 0.41172, loss_val = 0.46865, accuracy_val = 0.78036\n",
      "Epoch 65: loss_train = 0.41159, loss_val = 0.46850, accuracy_val = 0.77776\n",
      "Epoch 66: loss_train = 0.41132, loss_val = 0.47813, accuracy_val = 0.77217\n",
      "Epoch 67: loss_train = 0.41118, loss_val = 0.46973, accuracy_val = 0.78071\n",
      "Epoch 68: loss_train = 0.41061, loss_val = 0.47326, accuracy_val = 0.77812\n",
      "Epoch 69: loss_train = 0.41032, loss_val = 0.47191, accuracy_val = 0.77786\n",
      "Epoch 70: loss_train = 0.40982, loss_val = 0.46768, accuracy_val = 0.77835\n",
      "Epoch 71: loss_train = 0.40972, loss_val = 0.47017, accuracy_val = 0.77927\n",
      "Epoch 72: loss_train = 0.40904, loss_val = 0.47267, accuracy_val = 0.77611\n",
      "Epoch 73: loss_train = 0.40909, loss_val = 0.47588, accuracy_val = 0.77524\n",
      "Epoch 74: loss_train = 0.40846, loss_val = 0.47579, accuracy_val = 0.77625\n",
      "Epoch 75: loss_train = 0.40825, loss_val = 0.47765, accuracy_val = 0.77361\n",
      "Epoch 76: loss_train = 0.40850, loss_val = 0.47183, accuracy_val = 0.77899\n",
      "Epoch 77: loss_train = 0.40786, loss_val = 0.47048, accuracy_val = 0.77927\n",
      "Epoch 78: loss_train = 0.40765, loss_val = 0.47320, accuracy_val = 0.77668\n",
      "Epoch 79: loss_train = 0.40735, loss_val = 0.47271, accuracy_val = 0.77786\n",
      "Epoch 80: loss_train = 0.40715, loss_val = 0.46982, accuracy_val = 0.77927\n",
      "Epoch 81: loss_train = 0.40705, loss_val = 0.47281, accuracy_val = 0.77896\n",
      "Epoch 82: loss_train = 0.40649, loss_val = 0.47051, accuracy_val = 0.77812\n",
      "Epoch 83: loss_train = 0.40607, loss_val = 0.47256, accuracy_val = 0.77809\n",
      "Epoch 84: loss_train = 0.40614, loss_val = 0.47174, accuracy_val = 0.77880\n",
      "Epoch 85: loss_train = 0.40532, loss_val = 0.47639, accuracy_val = 0.77703\n",
      "Epoch 86: loss_train = 0.40553, loss_val = 0.47369, accuracy_val = 0.77717\n",
      "Epoch 87: loss_train = 0.40539, loss_val = 0.47251, accuracy_val = 0.77734\n",
      "Epoch 88: loss_train = 0.40481, loss_val = 0.47284, accuracy_val = 0.77823\n",
      "Epoch 89: loss_train = 0.40510, loss_val = 0.48511, accuracy_val = 0.77047\n",
      "Epoch 90: loss_train = 0.40444, loss_val = 0.47224, accuracy_val = 0.77802\n",
      "Epoch 91: loss_train = 0.40404, loss_val = 0.47346, accuracy_val = 0.77776\n",
      "Epoch 92: loss_train = 0.40440, loss_val = 0.47231, accuracy_val = 0.77863\n",
      "Epoch 93: loss_train = 0.40388, loss_val = 0.47306, accuracy_val = 0.77783\n",
      "Epoch 94: loss_train = 0.40359, loss_val = 0.47152, accuracy_val = 0.77800\n",
      "Epoch 95: loss_train = 0.40317, loss_val = 0.47157, accuracy_val = 0.77880\n",
      "Epoch 96: loss_train = 0.40330, loss_val = 0.47941, accuracy_val = 0.77550\n",
      "Epoch 97: loss_train = 0.40287, loss_val = 0.47281, accuracy_val = 0.77774\n",
      "Epoch 98: loss_train = 0.40317, loss_val = 0.47455, accuracy_val = 0.77771\n",
      "Epoch 99: loss_train = 0.40212, loss_val = 0.47525, accuracy_val = 0.77602\n",
      "Best val_accuracy of all epochs =  0.7835173129540522  in epoch =  20\n"
     ]
    }
   ],
   "source": [
    "# Baseline model (27B.200d and my_lower, my_unpunct only enabled in preprocessing)\n",
    "hidden_sizes = [64]\n",
    "learning_rate = 5e-4\n",
    "no_epochs = 100\n",
    "loss_func = nn.BCELoss()\n",
    "batch_size = 64\n",
    "activation = \"ReLU\"\n",
    "apply_sigmoid = 1                   # 1 stands for 'YES' and is for BCELoss\n",
    "dropout_rate = 0.0\n",
    "\n",
    "# We initialize the model\n",
    "D_in = X_train_tensor.shape[1]\n",
    "D_out = 1\n",
    "model = Net(D_in, hidden_sizes, D_out, dropout_rate, apply_sigmoid).to(device)\n",
    "optimizer = torch.optim.AdamW(model.parameters(), lr=learning_rate)\n",
    "\n",
    "print(model)\n",
    "    \n",
    "# Initialise dataloader\n",
    "dataset = torch.utils.data.TensorDataset(X_train_tensor, y_train_tensor) #class to represent the data as list of tensors. x=input_features, y=labels\n",
    "dataloader = torch.utils.data.DataLoader(dataset, batch_size, shuffle=True)  # shuffle=True, to have the data reshuffled at every epoch\n",
    "\n",
    "# Train network\n",
    "epochs = []\n",
    "loss_training = []\n",
    "loss_validation = []\n",
    "accuracy_training = []\n",
    "accuracy_validation = []\n",
    "best_val_accuracy = 0.0\n",
    "best_epoch = -1\n",
    "for epoch in range(no_epochs):\n",
    "    model.train()\n",
    "    batch_losses = []\n",
    "\n",
    "    for x_batch, y_batch in dataloader:   # we traverse batches (first batch #1, then batch #2, etc)\n",
    "        x_batch, y_batch = x_batch.to(device), y_batch.to(device)\n",
    "        y_pred = model(x_batch)\n",
    "        loss = loss_func(torch.flatten(y_pred), y_batch)   # y_batch is size [64], whereas y_pred is size [64,1]. torch.flatten reshapes into a one-dimensional tensor\n",
    "        # loss is a number\n",
    "        \n",
    "        no_samples = x_batch.shape[0]\n",
    "        sum_loss_this_batch = loss * no_samples\n",
    "        batch_losses.append(sum_loss_this_batch.item()) # tensor.item = Returns the value of this tensor as a standard Python number. This only works for tensors with one element.\n",
    "        #Delete previously stored gradients\n",
    "        optimizer.zero_grad()   # Reset the gradients of all optimized torch.Tensor s. (this is a function of torch.optim.<optimizer>.)\n",
    "        #Perform backpropagation starting from the loss calculated in this epoch\n",
    "        loss.backward()    # loss function returned us a tensor. in that tensor, we call backward (Computes the gradient of current tensor wrt graph leaves.The graph is differentiated using the chain rule. If the tensor is non-scalar (i.e. its data has more than one element) and requires gradient, the function additionally requires specifying a gradient. It should be a tensor of matching type and shape, that represents the gradient of the differentiated function w.r.t. self. This function accumulates gradients in the leaves - you might need to zero .grad attributes or set them to None before calling it. )\n",
    "        #Update model's weights based on the gradients calculated during backprop\n",
    "        optimizer.step()      # Perform a single optimization step.  (this is a function of torch.optim.<optimizer>.)\n",
    "        \n",
    "    model.eval()\n",
    "    with torch.no_grad():   # we disable gradient tracking during validation to save memory\n",
    "        y_val_pred = model(X_val_tensor)\n",
    "        loss_val = loss_func(y_val_pred.flatten(), y_val_tensor)    # loss val is a tensor scalar (can't call tensor.item cause this is for tensors with one element)\n",
    "        loss_val = loss_val.cpu().detach().numpy()   # we convert loss_val to scalar\n",
    "        loss_validation.append(loss_val)   # loss_val is a tensor scalar\n",
    "\n",
    "        # if BCEWithLogitsLoss used, should apply sigmoid to output, before calculating accuracy\n",
    "        if isinstance(loss_func, nn.BCEWithLogitsLoss):\n",
    "            y_val_pred = torch.sigmoid(y_val_pred)\n",
    "        y_val_pred = y_val_pred.round().cpu().detach().numpy().flatten()  # NUMPY FLATTEN        \n",
    "        accuracy = accuracy_score(y_val, y_val_pred)\n",
    "        epoch_loss = sum(batch_losses)/len(X_train)\n",
    "        \n",
    "        epochs.append(epoch)\n",
    "        loss_training.append(epoch_loss)\n",
    "        accuracy_validation.append(accuracy)\n",
    "\n",
    "        print(f\"Epoch {epoch}: loss_train = {epoch_loss:.5f}, loss_val = {loss_val:.5f}, accuracy_val = {accuracy:.5f}\")\n",
    "\n",
    "        y_train_pred = model(X_train_tensor)\n",
    "        if isinstance(loss_func, nn.BCEWithLogitsLoss):\n",
    "            y_train_pred = torch.sigmoid(y_train_pred) \n",
    "        y_train_pred = y_train_pred.round()\n",
    "        y_train_pred = torch.flatten(y_train_pred)\n",
    "        y_train_pred = y_train_pred.cpu().detach().numpy()\n",
    "        y_train_pred = y_train_pred.astype(np.int64)\n",
    "        accuracy_train = accuracy_score(y_train, y_train_pred)\n",
    "        accuracy_training.append(accuracy_train)\n",
    "\n",
    "        if(accuracy > best_val_accuracy):\n",
    "            best_val_accuracy = accuracy\n",
    "            best_epoch = epoch\n",
    "\n",
    "print(\"Best val_accuracy of all epochs = \", best_val_accuracy, \" in epoch = \", best_epoch)"
   ]
  },
  {
   "cell_type": "code",
   "execution_count": 16,
   "id": "6efd3440",
   "metadata": {
    "execution": {
     "iopub.execute_input": "2025-05-05T15:56:36.638029Z",
     "iopub.status.busy": "2025-05-05T15:56:36.637472Z",
     "iopub.status.idle": "2025-05-05T15:56:36.645588Z",
     "shell.execute_reply": "2025-05-05T15:56:36.644703Z"
    },
    "papermill": {
     "duration": 0.118966,
     "end_time": "2025-05-05T15:56:36.646960",
     "exception": false,
     "start_time": "2025-05-05T15:56:36.527994",
     "status": "completed"
    },
    "tags": []
   },
   "outputs": [
    {
     "name": "stdout",
     "output_type": "stream",
     "text": [
      "Accuracy in val_set:  0.776017\n"
     ]
    }
   ],
   "source": [
    "# We calculate accuracy of validation set (baseline model)\n",
    "model.eval()\n",
    "with torch.no_grad():\n",
    "    y_val_pred = model(X_val_tensor)\n",
    "    if isinstance(loss_func, nn.BCEWithLogitsLoss):\n",
    "        y_val_pred = torch.sigmoid(y_val_pred)\n",
    "    y_val_pred = torch.flatten(y_val_pred).round().cpu().detach().numpy()\n",
    "\n",
    "accuracy = accuracy_score(y_val, y_val_pred)\n",
    "print(f\"Accuracy in val_set: {accuracy: .6f}\")"
   ]
  },
  {
   "cell_type": "code",
   "execution_count": 17,
   "id": "d0fe1ba7",
   "metadata": {
    "execution": {
     "iopub.execute_input": "2025-05-05T15:56:36.871992Z",
     "iopub.status.busy": "2025-05-05T15:56:36.871643Z",
     "iopub.status.idle": "2025-05-05T15:56:37.193484Z",
     "shell.execute_reply": "2025-05-05T15:56:37.192588Z"
    },
    "papermill": {
     "duration": 0.432761,
     "end_time": "2025-05-05T15:56:37.194741",
     "exception": false,
     "start_time": "2025-05-05T15:56:36.761980",
     "status": "completed"
    },
    "tags": []
   },
   "outputs": [
    {
     "data": {
      "image/png": "[encoded data removed]",
      "text/plain": [
       "<Figure size 640x480 with 1 Axes>"
      ]
     },
     "metadata": {},
     "output_type": "display_data"
    }
   ],
   "source": [
    "# plotting the points (baseline model)\n",
    "plt.ylim(0, 1)      # Θέλουμε ο άξονας y που είναι το accuracy να ξεκινά από το μηδέν και να φτάνει μέχρι το ένα\n",
    "\n",
    "plt.plot(epochs, loss_training, label=\"Training loss\")  \n",
    "plt.plot(epochs, loss_validation, label=\"Validation loss\")  \n",
    "plt.plot(epochs, accuracy_validation, label=\"Validation accuracy\")  \n",
    "plt.plot(epochs, accuracy_training, label=\"Training accuracy\")  \n",
    "    \n",
    "plt.xlabel('Epochs')  # naming the x axis  \n",
    "plt.ylabel('Loss/Accuracy')       # naming the y axis  \n",
    "\n",
    "plt.legend()\n",
    "plt.savefig('learning-curve-baseline.png')"
   ]
  },
  {
   "cell_type": "code",
   "execution_count": 18,
   "id": "4198f92b",
   "metadata": {
    "execution": {
     "iopub.execute_input": "2025-05-05T15:56:37.418140Z",
     "iopub.status.busy": "2025-05-05T15:56:37.417832Z",
     "iopub.status.idle": "2025-05-05T15:56:37.448978Z",
     "shell.execute_reply": "2025-05-05T15:56:37.447947Z"
    },
    "papermill": {
     "duration": 0.144198,
     "end_time": "2025-05-05T15:56:37.450421",
     "exception": false,
     "start_time": "2025-05-05T15:56:37.306223",
     "status": "completed"
    },
    "tags": []
   },
   "outputs": [
    {
     "name": "stdout",
     "output_type": "stream",
     "text": [
      "Classification Report:\n",
      "               precision    recall  f1-score   support\n",
      "\n",
      "           0       0.76      0.81      0.78     21197\n",
      "           1       0.80      0.74      0.77     21199\n",
      "\n",
      "    accuracy                           0.78     42396\n",
      "   macro avg       0.78      0.78      0.78     42396\n",
      "weighted avg       0.78      0.78      0.78     42396\n",
      "\n"
     ]
    }
   ],
   "source": [
    "# accuracy, recall, precision, f1 score (baseline model)\n",
    "print(\"Classification Report:\\n\", classification_report(y_val, y_val_pred)) "
   ]
  },
  {
   "cell_type": "code",
   "execution_count": 19,
   "id": "129c9648",
   "metadata": {
    "execution": {
     "iopub.execute_input": "2025-05-05T15:56:37.715317Z",
     "iopub.status.busy": "2025-05-05T15:56:37.715012Z",
     "iopub.status.idle": "2025-05-05T15:56:37.955903Z",
     "shell.execute_reply": "2025-05-05T15:56:37.955088Z"
    },
    "papermill": {
     "duration": 0.395905,
     "end_time": "2025-05-05T15:56:37.957119",
     "exception": false,
     "start_time": "2025-05-05T15:56:37.561214",
     "status": "completed"
    },
    "tags": []
   },
   "outputs": [
    {
     "data": {
      "image/png": "[encoded data removed]",
      "text/plain": [
       "<Figure size 640x480 with 2 Axes>"
      ]
     },
     "metadata": {},
     "output_type": "display_data"
    }
   ],
   "source": [
    "#confusion matrix (baseline model)\n",
    "confusion_matrix = metrics.confusion_matrix(y_val, y_val_pred)\n",
    "cm_display = metrics.ConfusionMatrixDisplay(confusion_matrix = confusion_matrix, display_labels = [0, 1]) \n",
    "cm_display.plot()\n",
    "plt.savefig('confusion-matrix-baseline.png')"
   ]
  },
  {
   "cell_type": "code",
   "execution_count": 20,
   "id": "4e828cfc",
   "metadata": {
    "execution": {
     "iopub.execute_input": "2025-05-05T15:56:38.179383Z",
     "iopub.status.busy": "2025-05-05T15:56:38.179065Z",
     "iopub.status.idle": "2025-05-05T15:58:30.594802Z",
     "shell.execute_reply": "2025-05-05T15:58:30.593779Z"
    },
    "papermill": {
     "duration": 112.529107,
     "end_time": "2025-05-05T15:58:30.596144",
     "exception": false,
     "start_time": "2025-05-05T15:56:38.067037",
     "status": "completed"
    },
    "tags": []
   },
   "outputs": [
    {
     "name": "stdout",
     "output_type": "stream",
     "text": [
      "Net(\n",
      "  (model): Sequential(\n",
      "    (0): Linear(in_features=200, out_features=400, bias=True)\n",
      "    (1): ReLU()\n",
      "    (2): Dropout(p=0.4529273673532248, inplace=False)\n",
      "    (3): Linear(in_features=400, out_features=1, bias=True)\n",
      "  )\n",
      "  (sigmoid): Sigmoid()\n",
      ")\n",
      "Epoch 0: loss_train = 0.54842, loss_val = 0.49099, accuracy_val = 0.76142\n",
      "Epoch 1: loss_train = 0.49318, loss_val = 0.47988, accuracy_val = 0.76873\n",
      "Epoch 2: loss_train = 0.48463, loss_val = 0.47483, accuracy_val = 0.76995\n",
      "Epoch 3: loss_train = 0.47943, loss_val = 0.47211, accuracy_val = 0.77057\n",
      "Epoch 4: loss_train = 0.47603, loss_val = 0.46946, accuracy_val = 0.77422\n",
      "Epoch 5: loss_train = 0.47265, loss_val = 0.46648, accuracy_val = 0.77453\n",
      "Epoch 6: loss_train = 0.47046, loss_val = 0.46543, accuracy_val = 0.77453\n",
      "Epoch 7: loss_train = 0.46794, loss_val = 0.46322, accuracy_val = 0.77717\n",
      "Epoch 8: loss_train = 0.46487, loss_val = 0.46213, accuracy_val = 0.77717\n",
      "Epoch 9: loss_train = 0.46324, loss_val = 0.46150, accuracy_val = 0.77906\n",
      "Epoch 10: loss_train = 0.46194, loss_val = 0.45966, accuracy_val = 0.77967\n",
      "Epoch 11: loss_train = 0.45999, loss_val = 0.45908, accuracy_val = 0.77901\n",
      "Epoch 12: loss_train = 0.45788, loss_val = 0.45803, accuracy_val = 0.78083\n",
      "Epoch 13: loss_train = 0.45661, loss_val = 0.45761, accuracy_val = 0.78097\n",
      "Epoch 14: loss_train = 0.45588, loss_val = 0.45673, accuracy_val = 0.78118\n",
      "Epoch 15: loss_train = 0.45416, loss_val = 0.45628, accuracy_val = 0.78194\n",
      "Epoch 16: loss_train = 0.45237, loss_val = 0.45613, accuracy_val = 0.78213\n",
      "Epoch 17: loss_train = 0.45157, loss_val = 0.45610, accuracy_val = 0.78208\n",
      "Epoch 18: loss_train = 0.45026, loss_val = 0.45479, accuracy_val = 0.78316\n",
      "Epoch 19: loss_train = 0.44853, loss_val = 0.45372, accuracy_val = 0.78401\n",
      "Epoch 20: loss_train = 0.44769, loss_val = 0.45424, accuracy_val = 0.78335\n",
      "Epoch 21: loss_train = 0.44594, loss_val = 0.45475, accuracy_val = 0.78413\n",
      "Epoch 22: loss_train = 0.44509, loss_val = 0.45378, accuracy_val = 0.78460\n",
      "Epoch 23: loss_train = 0.44413, loss_val = 0.45349, accuracy_val = 0.78548\n",
      "Epoch 24: loss_train = 0.44302, loss_val = 0.45319, accuracy_val = 0.78470\n",
      "Epoch 25: loss_train = 0.44176, loss_val = 0.45371, accuracy_val = 0.78401\n",
      "Epoch 26: loss_train = 0.44083, loss_val = 0.45368, accuracy_val = 0.78503\n",
      "Epoch 27: loss_train = 0.44038, loss_val = 0.45487, accuracy_val = 0.78500\n",
      "Epoch 28: loss_train = 0.43899, loss_val = 0.45229, accuracy_val = 0.78571\n",
      "Epoch 29: loss_train = 0.43873, loss_val = 0.45203, accuracy_val = 0.78677\n",
      "Epoch 30: loss_train = 0.43777, loss_val = 0.45262, accuracy_val = 0.78786\n",
      "Epoch 31: loss_train = 0.43660, loss_val = 0.45179, accuracy_val = 0.78675\n",
      "Epoch 32: loss_train = 0.43552, loss_val = 0.45502, accuracy_val = 0.78703\n",
      "Epoch 33: loss_train = 0.43502, loss_val = 0.45234, accuracy_val = 0.78708\n",
      "Epoch 34: loss_train = 0.43355, loss_val = 0.45136, accuracy_val = 0.78781\n",
      "Epoch 35: loss_train = 0.43342, loss_val = 0.45459, accuracy_val = 0.78734\n",
      "Epoch 36: loss_train = 0.43251, loss_val = 0.45469, accuracy_val = 0.78753\n",
      "Epoch 37: loss_train = 0.43148, loss_val = 0.45576, accuracy_val = 0.78715\n",
      "Epoch 38: loss_train = 0.43143, loss_val = 0.45381, accuracy_val = 0.78821\n",
      "Epoch 39: loss_train = 0.43075, loss_val = 0.45359, accuracy_val = 0.78750\n",
      "Epoch 40: loss_train = 0.42953, loss_val = 0.45204, accuracy_val = 0.78812\n",
      "Epoch 41: loss_train = 0.42892, loss_val = 0.45382, accuracy_val = 0.78854\n",
      "Epoch 42: loss_train = 0.42821, loss_val = 0.45431, accuracy_val = 0.78753\n",
      "Epoch 43: loss_train = 0.42772, loss_val = 0.45545, accuracy_val = 0.78812\n",
      "Epoch 44: loss_train = 0.42736, loss_val = 0.45456, accuracy_val = 0.78901\n",
      "Epoch 45: loss_train = 0.42638, loss_val = 0.45406, accuracy_val = 0.78866\n",
      "Epoch 46: loss_train = 0.42652, loss_val = 0.45393, accuracy_val = 0.78941\n",
      "Epoch 47: loss_train = 0.42470, loss_val = 0.45398, accuracy_val = 0.78956\n",
      "Epoch 48: loss_train = 0.42423, loss_val = 0.45679, accuracy_val = 0.78823\n",
      "Epoch 49: loss_train = 0.42367, loss_val = 0.45446, accuracy_val = 0.78892\n",
      "Epoch 50: loss_train = 0.42248, loss_val = 0.45477, accuracy_val = 0.78873\n",
      "Best val_accuracy of all epochs =  0.7895556184545712  in epoch =  47\n"
     ]
    }
   ],
   "source": [
    "# Best model\n",
    "hidden_sizes = [400]\n",
    "learning_rate = 0.0006948140681022177\n",
    "no_epochs = 51\n",
    "loss_func = nn.BCELoss()\n",
    "batch_size = 1024\n",
    "activation = \"ReLU\"\n",
    "apply_sigmoid = 1                   # 1 stands for 'YES' and is for BCELoss\n",
    "dropout_rate = 0.4529273673532248\n",
    "\n",
    "# We initialize the model\n",
    "D_in = X_train_tensor.shape[1]\n",
    "D_out = 1\n",
    "model = Net(D_in, hidden_sizes, D_out, dropout_rate, apply_sigmoid).to(device)\n",
    "optimizer = torch.optim.AdamW(model.parameters(), lr=learning_rate)\n",
    "\n",
    "print(model)\n",
    "    \n",
    "# Initialise dataloader\n",
    "dataset = torch.utils.data.TensorDataset(X_train_tensor, y_train_tensor) #class to represent the data as list of tensors. x=input_features, y=labels\n",
    "dataloader = torch.utils.data.DataLoader(dataset, batch_size, shuffle=True)  # shuffle=True, to have the data reshuffled at every epoch\n",
    "\n",
    "# Train network\n",
    "epochs = []\n",
    "loss_training = []\n",
    "loss_validation = []\n",
    "accuracy_training = []\n",
    "accuracy_validation = []\n",
    "best_val_accuracy = 0.0\n",
    "best_epoch = -1\n",
    "for epoch in range(no_epochs):\n",
    "    model.train()\n",
    "    batch_losses = []\n",
    "\n",
    "    for x_batch, y_batch in dataloader:   # we traverse batches (first batch #1, then batch #2, etc)\n",
    "        x_batch, y_batch = x_batch.to(device), y_batch.to(device)\n",
    "        y_pred = model(x_batch)\n",
    "        loss = loss_func(torch.flatten(y_pred), y_batch)   # y_batch is size [64], whereas y_pred is size [64,1]. torch.flatten reshapes into a one-dimensional tensor\n",
    "        # loss is a number\n",
    "        \n",
    "        no_samples = x_batch.shape[0]\n",
    "        sum_loss_this_batch = loss * no_samples\n",
    "        batch_losses.append(sum_loss_this_batch.item()) # tensor.item = Returns the value of this tensor as a standard Python number. This only works for tensors with one element.\n",
    "        #Delete previously stored gradients\n",
    "        optimizer.zero_grad()   # Reset the gradients of all optimized torch.Tensor s. (this is a function of torch.optim.<optimizer>.)\n",
    "        #Perform backpropagation starting from the loss calculated in this epoch\n",
    "        loss.backward()    # loss function returned us a tensor. in that tensor, we call backward (Computes the gradient of current tensor wrt graph leaves.The graph is differentiated using the chain rule. If the tensor is non-scalar (i.e. its data has more than one element) and requires gradient, the function additionally requires specifying a gradient. It should be a tensor of matching type and shape, that represents the gradient of the differentiated function w.r.t. self. This function accumulates gradients in the leaves - you might need to zero .grad attributes or set them to None before calling it. )\n",
    "        #Update model's weights based on the gradients calculated during backprop\n",
    "        optimizer.step()      # Perform a single optimization step.  (this is a function of torch.optim.<optimizer>.)\n",
    "        \n",
    "    model.eval()\n",
    "    with torch.no_grad():   # we disable gradient tracking during validation to save memory\n",
    "        y_val_pred = model(X_val_tensor)\n",
    "        loss_val = loss_func(y_val_pred.flatten(), y_val_tensor)    # loss val is a tensor scalar (can't call tensor.item cause this is for tensors with one element)\n",
    "        loss_val = loss_val.cpu().detach().numpy()   # we convert loss_val to scalar\n",
    "        loss_validation.append(loss_val)   # loss_val is a tensor scalar\n",
    "\n",
    "        # if BCEWithLogitsLoss used, should apply sigmoid to output, before calculating accuracy\n",
    "        if isinstance(loss_func, nn.BCEWithLogitsLoss):\n",
    "            y_val_pred = torch.sigmoid(y_val_pred)\n",
    "        y_val_pred = y_val_pred.round().cpu().detach().numpy().flatten()  # NUMPY FLATTEN        \n",
    "        accuracy = accuracy_score(y_val, y_val_pred)\n",
    "        epoch_loss = sum(batch_losses)/len(X_train)\n",
    "        \n",
    "        epochs.append(epoch)\n",
    "        loss_training.append(epoch_loss)\n",
    "        accuracy_validation.append(accuracy)\n",
    "\n",
    "        print(f\"Epoch {epoch}: loss_train = {epoch_loss:.5f}, loss_val = {loss_val:.5f}, accuracy_val = {accuracy:.5f}\")\n",
    "\n",
    "        y_train_pred = model(X_train_tensor)\n",
    "        if isinstance(loss_func, nn.BCEWithLogitsLoss):\n",
    "            y_train_pred = torch.sigmoid(y_train_pred) \n",
    "        y_train_pred = y_train_pred.round()\n",
    "        y_train_pred = torch.flatten(y_train_pred)\n",
    "        y_train_pred = y_train_pred.cpu().detach().numpy()\n",
    "        y_train_pred = y_train_pred.astype(np.int64)\n",
    "        accuracy_train = accuracy_score(y_train, y_train_pred)\n",
    "        accuracy_training.append(accuracy_train)\n",
    "\n",
    "        if(accuracy > best_val_accuracy):\n",
    "            best_val_accuracy = accuracy\n",
    "            best_epoch = epoch\n",
    "\n",
    "print(\"Best val_accuracy of all epochs = \", best_val_accuracy, \" in epoch = \", best_epoch)"
   ]
  },
  {
   "cell_type": "code",
   "execution_count": 21,
   "id": "d0ce2f5b",
   "metadata": {
    "execution": {
     "iopub.execute_input": "2025-05-05T15:58:30.820886Z",
     "iopub.status.busy": "2025-05-05T15:58:30.820563Z",
     "iopub.status.idle": "2025-05-05T15:58:30.829020Z",
     "shell.execute_reply": "2025-05-05T15:58:30.828231Z"
    },
    "papermill": {
     "duration": 0.121181,
     "end_time": "2025-05-05T15:58:30.830222",
     "exception": false,
     "start_time": "2025-05-05T15:58:30.709041",
     "status": "completed"
    },
    "tags": []
   },
   "outputs": [
    {
     "name": "stdout",
     "output_type": "stream",
     "text": [
      "Accuracy in val_set:  0.788730\n"
     ]
    }
   ],
   "source": [
    "# We calculate accuracy of validation set (best model)\n",
    "model.eval()\n",
    "with torch.no_grad():\n",
    "    y_val_pred = model(X_val_tensor)\n",
    "    if isinstance(loss_func, nn.BCEWithLogitsLoss):\n",
    "        y_val_pred = torch.sigmoid(y_val_pred)\n",
    "    y_val_pred = torch.flatten(y_val_pred).round().cpu().detach().numpy()\n",
    "\n",
    "accuracy = accuracy_score(y_val, y_val_pred)\n",
    "print(f\"Accuracy in val_set: {accuracy: .6f}\")"
   ]
  },
  {
   "cell_type": "code",
   "execution_count": 22,
   "id": "391f31de",
   "metadata": {
    "execution": {
     "iopub.execute_input": "2025-05-05T15:58:31.053410Z",
     "iopub.status.busy": "2025-05-05T15:58:31.053092Z",
     "iopub.status.idle": "2025-05-05T15:58:31.293300Z",
     "shell.execute_reply": "2025-05-05T15:58:31.292312Z"
    },
    "papermill": {
     "duration": 0.352967,
     "end_time": "2025-05-05T15:58:31.294908",
     "exception": false,
     "start_time": "2025-05-05T15:58:30.941941",
     "status": "completed"
    },
    "tags": []
   },
   "outputs": [
    {
     "data": {
      "image/png": "[encoded data removed]",
      "text/plain": [
       "<Figure size 640x480 with 1 Axes>"
      ]
     },
     "metadata": {},
     "output_type": "display_data"
    }
   ],
   "source": [
    "# plotting the points (best model)\n",
    "plt.ylim(0, 1)      # Θέλουμε ο άξονας y που είναι το accuracy να ξεκινά από το μηδέν και να φτάνει μέχρι το ένα\n",
    "\n",
    "plt.plot(epochs, loss_training, label=\"Training loss\")  \n",
    "plt.plot(epochs, loss_validation, label=\"Validation loss\")  \n",
    "plt.plot(epochs, accuracy_validation, label=\"Validation accuracy\")  \n",
    "plt.plot(epochs, accuracy_training, label=\"Training accuracy\")  \n",
    "    \n",
    "plt.xlabel('Epochs')  # naming the x axis  \n",
    "plt.ylabel('Loss/Accuracy')       # naming the y axis  \n",
    "\n",
    "plt.legend()\n",
    "plt.savefig('learning-curve-final.png')"
   ]
  },
  {
   "cell_type": "code",
   "execution_count": 23,
   "id": "c1bdc0de",
   "metadata": {
    "execution": {
     "iopub.execute_input": "2025-05-05T15:58:31.550685Z",
     "iopub.status.busy": "2025-05-05T15:58:31.550393Z",
     "iopub.status.idle": "2025-05-05T15:58:31.584255Z",
     "shell.execute_reply": "2025-05-05T15:58:31.583244Z"
    },
    "papermill": {
     "duration": 0.174406,
     "end_time": "2025-05-05T15:58:31.585680",
     "exception": false,
     "start_time": "2025-05-05T15:58:31.411274",
     "status": "completed"
    },
    "tags": []
   },
   "outputs": [
    {
     "name": "stdout",
     "output_type": "stream",
     "text": [
      "Classification Report:\n",
      "               precision    recall  f1-score   support\n",
      "\n",
      "           0       0.78      0.81      0.79     21197\n",
      "           1       0.80      0.77      0.78     21199\n",
      "\n",
      "    accuracy                           0.79     42396\n",
      "   macro avg       0.79      0.79      0.79     42396\n",
      "weighted avg       0.79      0.79      0.79     42396\n",
      "\n"
     ]
    }
   ],
   "source": [
    "# accuracy, recall, precision, f1 score (best model)\n",
    "print(\"Classification Report:\\n\", classification_report(y_val, y_val_pred)) "
   ]
  },
  {
   "cell_type": "code",
   "execution_count": 24,
   "id": "238cd198",
   "metadata": {
    "execution": {
     "iopub.execute_input": "2025-05-05T15:58:31.814995Z",
     "iopub.status.busy": "2025-05-05T15:58:31.814656Z",
     "iopub.status.idle": "2025-05-05T15:58:32.031967Z",
     "shell.execute_reply": "2025-05-05T15:58:32.031134Z"
    },
    "papermill": {
     "duration": 0.333625,
     "end_time": "2025-05-05T15:58:32.033372",
     "exception": false,
     "start_time": "2025-05-05T15:58:31.699747",
     "status": "completed"
    },
    "tags": []
   },
   "outputs": [
    {
     "data": {
      "image/png": "[encoded data removed]",
      "text/plain": [
       "<Figure size 640x480 with 2 Axes>"
      ]
     },
     "metadata": {},
     "output_type": "display_data"
    }
   ],
   "source": [
    "#confusion matrix (best model)\n",
    "confusion_matrix = metrics.confusion_matrix(y_val, y_val_pred)\n",
    "cm_display = metrics.ConfusionMatrixDisplay(confusion_matrix = confusion_matrix, display_labels = [0, 1]) \n",
    "cm_display.plot()\n",
    "plt.savefig('confusion-matrix-final.png')"
   ]
  },
  {
   "cell_type": "code",
   "execution_count": 25,
   "id": "1e00651a",
   "metadata": {
    "execution": {
     "iopub.execute_input": "2025-05-05T15:58:32.311302Z",
     "iopub.status.busy": "2025-05-05T15:58:32.311000Z",
     "iopub.status.idle": "2025-05-05T15:58:32.568407Z",
     "shell.execute_reply": "2025-05-05T15:58:32.567518Z"
    },
    "papermill": {
     "duration": 0.422215,
     "end_time": "2025-05-05T15:58:32.569799",
     "exception": false,
     "start_time": "2025-05-05T15:58:32.147584",
     "status": "completed"
    },
    "tags": []
   },
   "outputs": [
    {
     "data": {
      "image/png": "[encoded data removed]",
      "text/plain": [
       "<Figure size 640x480 with 1 Axes>"
      ]
     },
     "metadata": {},
     "output_type": "display_data"
    }
   ],
   "source": [
    "# ROC curve (best model)\n",
    "model.eval()\n",
    "with torch.no_grad():\n",
    "    y_prob = model(X_val_tensor)\n",
    "    if isinstance(loss_func, nn.BCEWithLogitsLoss):\n",
    "        y_prob = torch.sigmoid(y_prob)\n",
    "    y_prob = y_prob.cpu().numpy().flatten()\n",
    "\n",
    "fpr, tpr, thresholds = roc_curve(y_val, y_prob)\n",
    "roc_auc = auc(fpr, tpr)\n",
    "\n",
    "plt.title('Receiver Operating Characteristic')\n",
    "plt.grid(True)\n",
    "plt.plot(fpr, tpr, 'b', label = 'AUC = %0.2f' % roc_auc)\n",
    "plt.legend(loc = 'lower right')\n",
    "plt.plot([0, 1], [0, 1],'r--')\n",
    "plt.xlim([0, 1])\n",
    "plt.ylim([0, 1])\n",
    "plt.ylabel('True Positive Rate')\n",
    "plt.xlabel('False Positive Rate')\n",
    "plt.savefig('roc-curve-final.png')"
   ]
  },
  {
   "cell_type": "code",
   "execution_count": 26,
   "id": "be959326",
   "metadata": {
    "execution": {
     "iopub.execute_input": "2025-05-05T15:58:32.800164Z",
     "iopub.status.busy": "2025-05-05T15:58:32.799848Z",
     "iopub.status.idle": "2025-05-05T15:58:32.823934Z",
     "shell.execute_reply": "2025-05-05T15:58:32.823040Z"
    },
    "papermill": {
     "duration": 0.140141,
     "end_time": "2025-05-05T15:58:32.825462",
     "exception": false,
     "start_time": "2025-05-05T15:58:32.685321",
     "status": "completed"
    },
    "tags": []
   },
   "outputs": [],
   "source": [
    "# Sumbmit test set\n",
    "model.eval()\n",
    "with torch.no_grad():\n",
    "    y_test_pred = model(X_test_tensor)\n",
    "    if isinstance(loss_func, nn.BCEWithLogitsLoss):\n",
    "        y_test_pred = torch.sigmoid(y_test_pred)\n",
    "    y_test_pred = torch.flatten(y_test_pred).round().cpu().detach().numpy()\n",
    "    y_test_pred = y_test_pred.astype(np.int64)\n",
    "\n",
    "df_test_submission = pd.DataFrame({'ID': X_test_id, 'Label' : y_test_pred})\n",
    "df_test_submission.to_csv('submission.csv', index=False)"
   ]
  },
  {
   "cell_type": "code",
   "execution_count": 27,
   "id": "63715fb2",
   "metadata": {
    "execution": {
     "iopub.execute_input": "2025-05-05T15:58:33.055833Z",
     "iopub.status.busy": "2025-05-05T15:58:33.055410Z",
     "iopub.status.idle": "2025-05-05T15:58:33.060658Z",
     "shell.execute_reply": "2025-05-05T15:58:33.059827Z"
    },
    "papermill": {
     "duration": 0.120028,
     "end_time": "2025-05-05T15:58:33.061848",
     "exception": false,
     "start_time": "2025-05-05T15:58:32.941820",
     "status": "completed"
    },
    "tags": []
   },
   "outputs": [],
   "source": [
    "# # OPTUNA FOR 1 HIDDEN LAYER (implements early stopping):\n",
    "# def objective(trial):\n",
    "#     # Number of hidden layers\n",
    "#     n_hidden_layers = 1\n",
    "    \n",
    "#     # Number of neurons for each hidden layer\n",
    "#     hidden_sizes = []\n",
    "#     for i in range(n_hidden_layers):\n",
    "#         hidden_size = trial.suggest_categorical(f\"hidden_size_{i}\", [50, 100, 200, 300, 400])  # known από θεωρία\n",
    "#         hidden_sizes.append(hidden_size)\n",
    "\n",
    "#     # More hyperparameters\n",
    "#     optimizer_name = trial.suggest_categorical(\"optimizer_name\", [\"AdamW\", \"NAdam\", \"SGD\"])\n",
    "#     learning_rate = trial.suggest_float('learning_rate', 1e-6, 1e-3, log=True)\n",
    "#     no_epochs = trial.suggest_categorical(\"epochs\", [10, 100, 300])  # big learning rate, means lower no_epochs to avoid overfitting\n",
    "#     loss_func = trial.suggest_categorical(\"loss_func\", [\"BCELoss\", \"BCEWithLogitsLoss\"])\n",
    "#     batch_size = 1024\n",
    "#     dropout_rate = trial.suggest_float('dropout_rate', 0.0, 0.5)\n",
    "#     activation = \"RELU\"\n",
    "\n",
    "#     # Our dataset is balanced, so no need to pass a weight to loss functions\n",
    "#     apply_sigmoid = 0                   # 0 stands for 'NO'\n",
    "#     if loss_func == \"BCELoss\":\n",
    "#         loss_func = nn.BCELoss()        # we use reduction='mean'\n",
    "#         apply_sigmoid = 1               # 1 stands for 'YES'\n",
    "#     else:\n",
    "#         loss_func = nn.BCEWithLogitsLoss()    # sigmoid is applied after BCELoss\n",
    "        \n",
    "#     # We initialize the model\n",
    "#     D_in = X_train_tensor.shape[1]\n",
    "#     D_out = 1\n",
    "#     model = Net(D_in, hidden_sizes, D_out, dropout_rate, apply_sigmoid).to(device)\n",
    "\n",
    "#     if optimizer_name == \"AdamW\":\n",
    "#         optimizer = torch.optim.AdamW(model.parameters(), lr=learning_rate)\n",
    "#     elif optimizer_name == \"NAdam\": \n",
    "#         optimizer = torch.optim.NAdam(model.parameters(), lr=learning_rate)\n",
    "#     else:\n",
    "#         optimizer = torch.optim.SGD(model.parameters(), lr=learning_rate)\n",
    "\n",
    "#     #Initialise dataloader\n",
    "#     dataset = torch.utils.data.TensorDataset(X_train_tensor, y_train_tensor) #class to represent the data as list of tensors. x=input_features, y=labels\n",
    "#     dataloader = torch.utils.data.DataLoader(dataset, batch_size, shuffle=True)  # batch_size = 64, shuffle=True, to have the data reshuffled at every epoch\n",
    "\n",
    "#     # Train network\n",
    "#     patience = 5                    # how many epochs to wait for improvement\n",
    "#     epochs_no_improve = 0\n",
    "#     best_val_accuracy = 0.0\n",
    "#     best_epoch = -1\n",
    "#     for epoch in range(no_epochs):\n",
    "#       model.train()\n",
    "#       batch_losses = []\n",
    "    \n",
    "#       for x_batch, y_batch in dataloader:   # we traverse batches (first batch #1, then batch #2, etc)\n",
    "#         x_batch, y_batch = x_batch.to(device), y_batch.to(device)\n",
    "#         y_pred = model(x_batch)\n",
    "          \n",
    "#         loss = loss_func(torch.flatten(y_pred), y_batch)   # y_batch is size [64], whereas y_pred is size [64,1]. torch.flatten reshapes into a one-dimensional tensor\n",
    "#         # loss is a number\n",
    "    \n",
    "#         no_samples = x_batch.shape[0]\n",
    "#         sum_loss_this_batch = loss * no_samples\n",
    "#         batch_losses.append(sum_loss_this_batch.item()) # tensor.item = Returns the value of this tensor as a standard Python number. This only works for tensors with one element.\n",
    "#         #Delete previously stored gradients\n",
    "#         optimizer.zero_grad()   # Reset the gradients of all optimized torch.Tensor s. (this is a function of torch.optim.<optimizer>.)\n",
    "#         #Perform backpropagation starting from the loss calculated in this epoch\n",
    "#         loss.backward()    # loss function returned us a tensor. in that tensor, we call backward (Computes the gradient of current tensor wrt graph leaves.The graph is differentiated using the chain rule. If the tensor is non-scalar (i.e. its data has more than one element) and requires gradient, the function additionally requires specifying a gradient. It should be a tensor of matching type and shape, that represents the gradient of the differentiated function w.r.t. self. This function accumulates gradients in the leaves - you might need to zero .grad attributes or set them to None before calling it. )\n",
    "#         #Update model's weights based on the gradients calculated during backprop\n",
    "#         optimizer.step()      # Perform a single optimization step.  (this is a function of torch.optim.<optimizer>.)\n",
    "\n",
    "#       epoch_loss = sum(batch_losses)/len(X_train)\n",
    "\n",
    "#       model.eval()   # we set model to evaluation mode -> we disable dropout\n",
    "\n",
    "#       with torch.no_grad():    # we disable gradient tracking during validation to save memory\n",
    "#         y_val_pred = model(X_val_tensor)\n",
    "#         loss_val = loss_func(y_val_pred.flatten(), y_val_tensor)    # loss val is a tensor scalar (can't call tensor.item cause this is for tensors with one element)\n",
    "#         loss_val = loss_val.cpu().detach().numpy()   # we convert loss_val to scalar\n",
    "\n",
    "#         # if BCEWithLogitsLoss used, should apply sigmoid to output, before calculating accuracy\n",
    "#         if isinstance(loss_func, nn.BCEWithLogitsLoss):\n",
    "#             y_val_pred = torch.sigmoid(y_val_pred)\n",
    "#         y_val_pred = y_val_pred.round().cpu().detach().numpy().flatten()  # NUMPY FLATTEN\n",
    "#         accuracy = accuracy_score(y_val, y_val_pred)\n",
    "\n",
    "#         print(f\"Epoch {epoch}: loss_train = {epoch_loss:.5f}, loss_val = {loss_val:.5f}, accuracy_val = {accuracy:.5f}\")\n",
    "\n",
    "#         if(accuracy > best_val_accuracy):\n",
    "#             best_val_accuracy = accuracy\n",
    "#             best_epoch = epoch\n",
    "#             epochs_no_improve = 0\n",
    "#         else:\n",
    "#             epochs_no_improve += 1\n",
    "\n",
    "#         if epochs_no_improve >= patience:\n",
    "#                 print(f\"Early stopping at epoch {epoch}\")\n",
    "#                 break  # Stop training\n",
    "\n",
    "\n",
    "#     print(\"Best val_accuracy of all epochs = \", best_val_accuracy, \" in epoch = \", best_epoch)\n",
    "#     return best_val_accuracy\n",
    "#     # return sum(accuracies_val)/len(accuracies_val) # return value of this function, is the metric we want to optimize   # *** CHANGED THIS\n",
    "\n",
    "\n",
    "# optuna_sample = optuna.create_study(direction = 'maximize', study_name = 'lr-minim-sample')    # *** CHANGED THIS\n",
    "# optuna_sample.optimize(objective, n_jobs=1) # optuna will run #the first parameter is the function that we want to optimise (It runs the objective function for 50 different trials. In each trial, Optuna samples a new set of hyperparameters according to the ranges and categories you specified.)\n",
    "# print('numbers of the finished trials:' , len(optuna_sample.trials))   \n",
    "# print('the best params:' , optuna_sample.best_trial.params)\n",
    "# print('the best value:' , optuna_sample.best_value)"
   ]
  },
  {
   "cell_type": "code",
   "execution_count": 28,
   "id": "9caf4f43",
   "metadata": {
    "execution": {
     "iopub.execute_input": "2025-05-05T15:58:33.291032Z",
     "iopub.status.busy": "2025-05-05T15:58:33.290692Z",
     "iopub.status.idle": "2025-05-05T15:58:33.295359Z",
     "shell.execute_reply": "2025-05-05T15:58:33.294658Z"
    },
    "papermill": {
     "duration": 0.121409,
     "end_time": "2025-05-05T15:58:33.296532",
     "exception": false,
     "start_time": "2025-05-05T15:58:33.175123",
     "status": "completed"
    },
    "tags": []
   },
   "outputs": [],
   "source": [
    "# # OPTUNA FOR 3 HIDDEN LAYERS (implements early stopping):\n",
    "# def objective(trial):\n",
    "#     # Number of hidden layers\n",
    "#     n_hidden_layers = 3\n",
    "    \n",
    "#     # Number of neurons for each hidden layer\n",
    "#     hidden_sizes = []\n",
    "#     for i in range(n_hidden_layers):\n",
    "#         hidden_size = trial.suggest_categorical(f\"hidden_size_{i}\", [50, 100, 200, 300, 400])  # known από θεωρία\n",
    "#         hidden_sizes.append(hidden_size)\n",
    "\n",
    "#     # More hyperparameters\n",
    "#     optimizer_name = trial.suggest_categorical(\"optimizer_name\", [\"AdamW\", \"NAdam\", \"SGD\"])\n",
    "#     learning_rate = trial.suggest_float('learning_rate', 1e-6, 1e-3, log=True)\n",
    "#     no_epochs = trial.suggest_categorical(\"epochs\", [10, 100, 300])  # big learning rate, means lower no_epochs to avoid overfitting\n",
    "#     loss_func = trial.suggest_categorical(\"loss_func\", [\"BCELoss\", \"BCEWithLogitsLoss\"])\n",
    "#     batch_size = 1024\n",
    "#     dropout_rate = trial.suggest_float('dropout_rate', 0.0, 0.5)\n",
    "#     activation = \"RELU\"\n",
    "\n",
    "#     # Our dataset is balanced, so no need to pass a weight to loss functions\n",
    "#     apply_sigmoid = 0                   # 0 stands for 'NO'\n",
    "#     if loss_func == \"BCELoss\":\n",
    "#         loss_func = nn.BCELoss()        # we use reduction='mean'\n",
    "#         apply_sigmoid = 1               # 1 stands for 'YES'\n",
    "#     else:\n",
    "#         loss_func = nn.BCEWithLogitsLoss()    # sigmoid is applied after BCELoss\n",
    "        \n",
    "#     # We initialize the model\n",
    "#     D_in = X_train_tensor.shape[1]\n",
    "#     D_out = 1\n",
    "#     model = Net(D_in, hidden_sizes, D_out, dropout_rate, apply_sigmoid).to(device)\n",
    "\n",
    "#     if optimizer_name == \"AdamW\":\n",
    "#         optimizer = torch.optim.AdamW(model.parameters(), lr=learning_rate)\n",
    "#     elif optimizer_name == \"NAdam\": \n",
    "#         optimizer = torch.optim.NAdam(model.parameters(), lr=learning_rate)\n",
    "#     else:\n",
    "#         optimizer = torch.optim.SGD(model.parameters(), lr=learning_rate)\n",
    "\n",
    "#     #Initialise dataloader\n",
    "#     dataset = torch.utils.data.TensorDataset(X_train_tensor, y_train_tensor) #class to represent the data as list of tensors. x=input_features, y=labels\n",
    "#     dataloader = torch.utils.data.DataLoader(dataset, batch_size, shuffle=True)  # batch_size = 64, shuffle=True, to have the data reshuffled at every epoch\n",
    "\n",
    "#     # Train network\n",
    "#     patience = 5                    # how many epochs to wait for improvement\n",
    "#     epochs_no_improve = 0\n",
    "#     best_val_accuracy = 0.0\n",
    "#     best_epoch = -1\n",
    "#     for epoch in range(no_epochs):\n",
    "#       model.train()\n",
    "#       batch_losses = []\n",
    "    \n",
    "#       for x_batch, y_batch in dataloader:   # we traverse batches (first batch #1, then batch #2, etc)\n",
    "#         x_batch, y_batch = x_batch.to(device), y_batch.to(device)\n",
    "#         y_pred = model(x_batch)\n",
    "          \n",
    "#         loss = loss_func(torch.flatten(y_pred), y_batch)   # y_batch is size [64], whereas y_pred is size [64,1]. torch.flatten reshapes into a one-dimensional tensor\n",
    "#         # loss is a number\n",
    "    \n",
    "#         no_samples = x_batch.shape[0]\n",
    "#         sum_loss_this_batch = loss * no_samples\n",
    "#         batch_losses.append(sum_loss_this_batch.item()) # tensor.item = Returns the value of this tensor as a standard Python number. This only works for tensors with one element.\n",
    "#         #Delete previously stored gradients\n",
    "#         optimizer.zero_grad()   # Reset the gradients of all optimized torch.Tensor s. (this is a function of torch.optim.<optimizer>.)\n",
    "#         #Perform backpropagation starting from the loss calculated in this epoch\n",
    "#         loss.backward()    # loss function returned us a tensor. in that tensor, we call backward (Computes the gradient of current tensor wrt graph leaves.The graph is differentiated using the chain rule. If the tensor is non-scalar (i.e. its data has more than one element) and requires gradient, the function additionally requires specifying a gradient. It should be a tensor of matching type and shape, that represents the gradient of the differentiated function w.r.t. self. This function accumulates gradients in the leaves - you might need to zero .grad attributes or set them to None before calling it. )\n",
    "#         #Update model's weights based on the gradients calculated during backprop\n",
    "#         optimizer.step()      # Perform a single optimization step.  (this is a function of torch.optim.<optimizer>.)\n",
    "\n",
    "#       epoch_loss = sum(batch_losses)/len(X_train)\n",
    "\n",
    "#       model.eval()   # we set model to evaluation mode -> we disable dropout\n",
    "\n",
    "#       with torch.no_grad():    # we disable gradient tracking during validation to save memory\n",
    "#         y_val_pred = model(X_val_tensor)\n",
    "#         loss_val = loss_func(y_val_pred.flatten(), y_val_tensor)    # loss val is a tensor scalar (can't call tensor.item cause this is for tensors with one element)\n",
    "#         loss_val = loss_val.cpu().detach().numpy()   # we convert loss_val to scalar\n",
    "\n",
    "#         # if BCEWithLogitsLoss used, should apply sigmoid to output, before calculating accuracy\n",
    "#         if isinstance(loss_func, nn.BCEWithLogitsLoss):\n",
    "#             y_val_pred = torch.sigmoid(y_val_pred)\n",
    "#         y_val_pred = y_val_pred.round().cpu().detach().numpy().flatten()  # NUMPY FLATTEN\n",
    "#         accuracy = accuracy_score(y_val, y_val_pred)\n",
    "\n",
    "#         print(f\"Epoch {epoch}: loss_train = {epoch_loss:.5f}, loss_val = {loss_val:.5f}, accuracy_val = {accuracy:.5f}\")\n",
    "\n",
    "#         if(accuracy > best_val_accuracy):\n",
    "#             best_val_accuracy = accuracy\n",
    "#             best_epoch = epoch\n",
    "#             epochs_no_improve = 0\n",
    "#         else:\n",
    "#             epochs_no_improve += 1\n",
    "\n",
    "#         if epochs_no_improve >= patience:\n",
    "#                 print(f\"Early stopping at epoch {epoch}\")\n",
    "#                 break  # Stop training\n",
    "\n",
    "\n",
    "#     print(\"Best val_accuracy of all epochs = \", best_val_accuracy, \" in epoch = \", best_epoch)\n",
    "#     return best_val_accuracy\n",
    "#     # return sum(accuracies_val)/len(accuracies_val) # return value of this function, is the metric we want to optimize   # *** CHANGED THIS\n",
    "\n",
    "\n",
    "# optuna_sample = optuna.create_study(direction = 'maximize', study_name = 'lr-minim-sample')    # *** CHANGED THIS\n",
    "# optuna_sample.optimize(objective, n_jobs=1) # optuna will run #the first parameter is the function that we want to optimise (It runs the objective function for 50 different trials. In each trial, Optuna samples a new set of hyperparameters according to the ranges and categories you specified.)\n",
    "# print('numbers of the finished trials:' , len(optuna_sample.trials))   \n",
    "# print('the best params:' , optuna_sample.best_trial.params)\n",
    "# print('the best value:' , optuna_sample.best_value)"
   ]
  }
 ],
 "metadata": {
  "kaggle": {
   "accelerator": "gpu",
   "dataSources": [
    {
     "databundleVersionId": 11446837,
     "sourceId": 96317,
     "sourceType": "competition"
    }
   ],
   "dockerImageVersionId": 30918,
   "isGpuEnabled": true,
   "isInternetEnabled": true,
   "language": "python",
   "sourceType": "notebook"
  },
  "kernelspec": {
   "display_name": "Python 3",
   "language": "python",
   "name": "python3"
  },
  "language_info": {
   "codemirror_mode": {
    "name": "ipython",
    "version": 3
   },
   "file_extension": ".py",
   "mimetype": "text/x-python",
   "name": "python",
   "nbconvert_exporter": "python",
   "pygments_lexer": "ipython3",
   "version": "3.10.12"
  },
  "papermill": {
   "default_parameters": {},
   "duration": 1542.213976,
   "end_time": "2025-05-05T15:58:37.437491",
   "environment_variables": {},
   "exception": null,
   "input_path": "__notebook__.ipynb",
   "output_path": "__notebook__.ipynb",
   "parameters": {},
   "start_time": "2025-05-05T15:32:55.223515",
   "version": "2.6.0"
  }
 },
 "nbformat": 4,
 "nbformat_minor": 5
}
